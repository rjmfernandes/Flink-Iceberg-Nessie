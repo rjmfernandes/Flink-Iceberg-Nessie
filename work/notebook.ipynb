{
 "cells": [
  {
   "cell_type": "code",
   "execution_count": 1,
   "id": "9d00b7cc-6c19-4ea2-ab7e-520583bec9fc",
   "metadata": {},
   "outputs": [
    {
     "name": "stdout",
     "output_type": "stream",
     "text": [
      "Spark will be instantiated. This may take a while specially the first time for downloading. Wait until it says Spark is running...\n",
      "Spark is Running!\n"
     ]
    }
   ],
   "source": [
    "from pyspark.sql import *\n",
    "from pyspark import SparkConf\n",
    "import os\n",
    "\n",
    "os.environ['PYSPARK_SUBMIT_ARGS'] = '--packages com.amazonaws:aws-java-sdk:1.10.34,org.apache.spark:spark-hadoop-cloud_2.12:3.4.0,org.apache.iceberg:iceberg-spark:1.5.0,org.apache.iceberg:iceberg-spark-runtime-3.4_2.12:1.5.0,org.projectnessie.nessie-integrations:nessie-spark-extensions-3.4_2.12:0.80.0,org.apache.iceberg:iceberg-aws-bundle:1.5.0 pyspark-shell'\n",
    "\n",
    "conf = SparkConf()\n",
    "\n",
    "conf.set(\"spark.sql.execution.pyarrow.enabled\", \"true\")\n",
    "conf.set(\"spark.hadoop.fs.s3a.impl\", \"org.apache.hadoop.fs.s3a.S3AFileSystem\")\n",
    "conf.set(\"spark.sql.catalog.arctic\", \"org.apache.iceberg.spark.SparkCatalog\")\n",
    "conf.set(\"spark.sql.catalog.arctic.catalog-impl\", \"org.apache.iceberg.nessie.NessieCatalog\")\n",
    "\n",
    "conf.set(\"spark.sql.catalog.arctic.warehouse\", \"s3://warehouse\")\n",
    "conf.set(\"spark.sql.catalog.arctic.s3.endpoint\", \"http://storage:9000\")\n",
    "\n",
    "conf.set(\"spark.sql.catalog.arctic.uri\", \"http://catalog:19120/api/v1\")\n",
    "\n",
    "conf.set(\"spark.sql.catalog.arctic.ref\", \"main\")\n",
    "conf.set(\"spark.sql.catalog.arctic.io-impl\", \"org.apache.iceberg.aws.s3.S3FileIO\")\n",
    "\n",
    "conf.set(\"spark.sql.catalog.arctic.authentication.type\", \"NONE\")\n",
    "conf.set(\n",
    "    \"spark.sql.extensions\",    \"org.apache.iceberg.spark.extensions.IcebergSparkSessionExtensions,org.projectnessie.spark.extensions.NessieSparkSessionExtensions\")\n",
    "\n",
    "print(\"Spark will be instantiated. This may take a while specially the first time for downloading. Wait until it says Spark is running...\")\n",
    "\n",
    "#Run Spark\n",
    "spark = SparkSession.builder.config(conf=conf).getOrCreate()\n",
    "print(\"Spark is Running!\")"
   ]
  },
  {
   "cell_type": "code",
   "execution_count": 2,
   "id": "2ac397f5-3bea-4331-9bc6-32a33ae85488",
   "metadata": {},
   "outputs": [
    {
     "name": "stdout",
     "output_type": "stream",
     "text": [
      "+---------+\n",
      "|namespace|\n",
      "+---------+\n",
      "|     test|\n",
      "+---------+\n",
      "\n"
     ]
    }
   ],
   "source": [
    "spark.sql(\n",
    "    \"SHOW DATABASES IN arctic\"\n",
    ").show()"
   ]
  },
  {
   "cell_type": "code",
   "execution_count": 3,
   "id": "791651ec-456c-4cca-94ab-f90dfbaaecc2",
   "metadata": {},
   "outputs": [
    {
     "name": "stdout",
     "output_type": "stream",
     "text": [
      "+----------+---------+-------+\n",
      "|  col_name|data_type|comment|\n",
      "+----------+---------+-------+\n",
      "|        id|   string|   NULL|\n",
      "|     brand|   string|   NULL|\n",
      "|      name|   string|   NULL|\n",
      "|sale_price|   bigint|   NULL|\n",
      "|    rating|   double|   NULL|\n",
      "+----------+---------+-------+\n",
      "\n"
     ]
    }
   ],
   "source": [
    "spark.sql(\n",
    "    \"DESCRIBE arctic.test.products\"\n",
    ").show()"
   ]
  },
  {
   "cell_type": "code",
   "execution_count": 4,
   "id": "f65faf1a-550e-497c-8c6b-3be46098ea9a",
   "metadata": {},
   "outputs": [
    {
     "name": "stdout",
     "output_type": "stream",
     "text": [
      "+--------------------+--------------------+--------------------+----------+------+\n",
      "|                  id|               brand|                name|sale_price|rating|\n",
      "+--------------------+--------------------+--------------------+----------+------+\n",
      "|6d425e1b-04d1-493...|         Grady Group|Spectra5 Sidekick...|      8495|   0.0|\n",
      "|5b9637ed-831f-4ad...| Gleichner-Buckridge|    Max Spectra5 503|      5597|   2.5|\n",
      "|87d21a5b-b92f-430...|        Torphy Group|        Max Perf 644|      6997|   4.0|\n",
      "|b00405fc-bc40-4a5...|  Ankunding and Sons|        Pro Perf 898|     14995|   0.0|\n",
      "|c4645208-a8fb-465...|        Jones-Stokes|Sidekick Spectra5...|      8995|   4.2|\n",
      "|5a31a90e-eebd-474...|  Ankunding and Sons|        Perf Max 801|      7995|   0.0|\n",
      "|b44b2ca1-2032-464...|         Braun-Bruen|Impreza Sidekick 952|      9995|   2.6|\n",
      "|57985734-f25c-4f3...|         Grady Group|TrailRunner Spect...|     11897|   4.4|\n",
      "|219aa213-102a-4d2...|          Huel-Ortiz|        Perf Max 205|      6495|   4.7|\n",
      "|6dc72792-4fac-451...|  Ankunding and Sons| TrailRunner Max 490|      8995|   0.0|\n",
      "|a1229c0d-95e9-440...|        Jones-Stokes| Max TrailRunner 259|      5495|   0.0|\n",
      "|ac82451e-e5ba-4b5...|    Langworth-Little|Impreza Sidekick 880|      9995|   4.5|\n",
      "|c0b9b08f-d82a-409...|Lebsack, Wiza and...|    Spectra5 Pro 493|      8995|   0.0|\n",
      "|ec38f870-584e-439...|Lebsack, Wiza and...|     Impreza Pro 536|      4197|   0.0|\n",
      "|620f4942-a021-4a9...|          Huel-Ortiz|   Perf Spectra5 269|     16995|   5.0|\n",
      "|062366f5-278c-49c...|Macejkovic, Walte...|        Perf Max 709|      9995|   0.0|\n",
      "|02fc8aaa-e572-4ef...|         Grady Group|        Perf Max 285|     13995|   4.6|\n",
      "|35a6dfe3-d459-47d...|  Ankunding and Sons|         Pro Max 892|      7995|   0.0|\n",
      "|a20366f5-a39d-45e...|Tillman, Effertz ...|Sidekick TrailRun...|      7995|   0.0|\n",
      "|8cd8558f-b3a8-4e6...|  Ankunding and Sons|Sidekick Impreza 820|     12797|   5.0|\n",
      "+--------------------+--------------------+--------------------+----------+------+\n",
      "only showing top 20 rows\n",
      "\n"
     ]
    }
   ],
   "source": [
    "spark.sql(\n",
    "    \"SELECT * from arctic.test.products\"\n",
    ").show()"
   ]
  },
  {
   "cell_type": "code",
   "execution_count": null,
   "id": "1317c3e3-c4a3-4ced-a78b-255044a5e0f1",
   "metadata": {},
   "outputs": [],
   "source": []
  }
 ],
 "metadata": {
  "kernelspec": {
   "display_name": "Python 3 (ipykernel)",
   "language": "python",
   "name": "python3"
  },
  "language_info": {
   "codemirror_mode": {
    "name": "ipython",
    "version": 3
   },
   "file_extension": ".py",
   "mimetype": "text/x-python",
   "name": "python",
   "nbconvert_exporter": "python",
   "pygments_lexer": "ipython3",
   "version": "3.11.6"
  }
 },
 "nbformat": 4,
 "nbformat_minor": 5
}
