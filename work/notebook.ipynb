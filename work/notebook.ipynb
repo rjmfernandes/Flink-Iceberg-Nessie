{
 "cells": [
  {
   "cell_type": "code",
   "execution_count": 1,
   "id": "9d00b7cc-6c19-4ea2-ab7e-520583bec9fc",
   "metadata": {},
   "outputs": [
    {
     "name": "stdout",
     "output_type": "stream",
     "text": [
      "Spark will be instantiated. This may take a while specially the first time for downloading. Wait until it says Spark is running...\n",
      "Spark is Running!\n"
     ]
    }
   ],
   "source": [
    "from pyspark.sql import *\n",
    "from pyspark import SparkConf\n",
    "import os\n",
    "\n",
    "os.environ['PYSPARK_SUBMIT_ARGS'] = '--packages com.amazonaws:aws-java-sdk:1.10.34,org.apache.spark:spark-hadoop-cloud_2.12:3.4.0,org.apache.iceberg:iceberg-spark:1.5.0,org.apache.iceberg:iceberg-spark-runtime-3.4_2.12:1.5.0,org.projectnessie.nessie-integrations:nessie-spark-extensions-3.4_2.12:0.80.0,org.apache.iceberg:iceberg-aws-bundle:1.5.0 pyspark-shell'\n",
    "\n",
    "conf = SparkConf()\n",
    "\n",
    "conf.set(\"spark.sql.execution.pyarrow.enabled\", \"true\")\n",
    "conf.set(\"spark.hadoop.fs.s3a.impl\", \"org.apache.hadoop.fs.s3a.S3AFileSystem\")\n",
    "conf.set(\"spark.sql.catalog.arctic\", \"org.apache.iceberg.spark.SparkCatalog\")\n",
    "conf.set(\"spark.sql.catalog.arctic.catalog-impl\", \"org.apache.iceberg.nessie.NessieCatalog\")\n",
    "\n",
    "conf.set(\"spark.sql.catalog.arctic.warehouse\", \"s3://warehouse\")\n",
    "conf.set(\"spark.sql.catalog.arctic.s3.endpoint\", \"http://storage:9000\")\n",
    "\n",
    "conf.set(\"spark.sql.catalog.arctic.uri\", \"http://catalog:19120/api/v1\")\n",
    "\n",
    "conf.set(\"spark.sql.catalog.arctic.ref\", \"main\")\n",
    "conf.set(\"spark.sql.catalog.arctic.io-impl\", \"org.apache.iceberg.aws.s3.S3FileIO\")\n",
    "\n",
    "conf.set(\"spark.sql.catalog.arctic.authentication.type\", \"NONE\")\n",
    "conf.set(\n",
    "    \"spark.sql.extensions\",    \"org.apache.iceberg.spark.extensions.IcebergSparkSessionExtensions,org.projectnessie.spark.extensions.NessieSparkSessionExtensions\")\n",
    "\n",
    "print(\"Spark will be instantiated. This may take a while specially the first time for downloading. Wait until it says Spark is running...\")\n",
    "\n",
    "#Run Spark\n",
    "spark = SparkSession.builder.config(conf=conf).getOrCreate()\n",
    "print(\"Spark is Running!\")"
   ]
  },
  {
   "cell_type": "code",
   "execution_count": 2,
   "id": "2ac397f5-3bea-4331-9bc6-32a33ae85488",
   "metadata": {},
   "outputs": [
    {
     "name": "stdout",
     "output_type": "stream",
     "text": [
      "+---------+\n",
      "|namespace|\n",
      "+---------+\n",
      "|     test|\n",
      "+---------+\n",
      "\n"
     ]
    }
   ],
   "source": [
    "spark.sql(\n",
    "    \"SHOW DATABASES IN arctic\"\n",
    ").show()"
   ]
  },
  {
   "cell_type": "code",
   "execution_count": 3,
   "id": "791651ec-456c-4cca-94ab-f90dfbaaecc2",
   "metadata": {},
   "outputs": [
    {
     "name": "stdout",
     "output_type": "stream",
     "text": [
      "+----------+---------+-------+\n",
      "|  col_name|data_type|comment|\n",
      "+----------+---------+-------+\n",
      "|  order_id|   bigint|   NULL|\n",
      "|first_name|   string|   NULL|\n",
      "| last_name|   string|   NULL|\n",
      "|     email|   string|   NULL|\n",
      "|     brand|   string|   NULL|\n",
      "|     model|   string|   NULL|\n",
      "|sale_price|   bigint|   NULL|\n",
      "|    rating|   double|   NULL|\n",
      "+----------+---------+-------+\n",
      "\n"
     ]
    }
   ],
   "source": [
    "spark.sql(\n",
    "    \"DESCRIBE arctic.test.orders\"\n",
    ").show()"
   ]
  },
  {
   "cell_type": "code",
   "execution_count": 4,
   "id": "f65faf1a-550e-497c-8c6b-3be46098ea9a",
   "metadata": {},
   "outputs": [
    {
     "name": "stdout",
     "output_type": "stream",
     "text": [
      "+--------+----------+-----------+--------------------+--------------------+--------------------+----------+------+\n",
      "|order_id|first_name|  last_name|               email|               brand|               model|sale_price|rating|\n",
      "+--------+----------+-----------+--------------------+--------------------+--------------------+----------+------+\n",
      "|   10068|   Kristan|    Dalgety|  grighy5k@yandex.ru|        Harvey-Kuhic|    Max Sidekick 734|      7495|   0.0|\n",
      "|   10069|     Mozes|     Gillio| mkubas73@cdbaby.com|        Torphy Group|   Perf Sidekick 251|     18995|   4.8|\n",
      "|   10070|    Nanete|  Bartalini|  bthireau6b@cdc.gov|    Langworth-Little|        Perf Pro 804|     10497|   0.0|\n",
      "|   10071|  Ruthanne|     Little|  lhubane@joomla.org|  Ankunding and Sons|        Pro Perf 959|      7995|   5.0|\n",
      "|   10072|    Dwight|     Vassel|   wgorsse6j@umn.edu|        Torphy Group| Pro TrailRunner 582|     14995|   4.6|\n",
      "|   10073|    Danica|       Medd|carmytage1i@netlo...|    Langworth-Little|Impreza Sidekick 481|     10995|   0.0|\n",
      "|   10074|      Maxy|  Licciardo|carckoll3m@wikisp...|         Braun-Bruen|    Perf Impreza 795|     10197|   0.0|\n",
      "|   10075|    Roslyn|  Hunnaball|wjeste12@opensour...|Beer, DAmore and ...|TrailRunner Impre...|      7595|   5.0|\n",
      "|   10076|   Analise|     Pirnie|hbraffertony@refe...|    Langworth-Little| TrailRunner Max 270|      9597|   4.4|\n",
      "|   10077|   Tirrell|  Klimentov| bburet3l@rambler.ru|       Renner-DAmore|    Sidekick Pro 145|     13597|   0.0|\n",
      "|   10078|   Lorilee|      Troup|bmckerton3k@barne...|         Braun-Bruen|Spectra5 Impreza 865|     15995|   0.0|\n",
      "|   10079|     Arden|Giovannardi|medmett7q@fastcom...|       Renner-DAmore|Impreza TrailRunn...|      9995|   5.0|\n",
      "|   10080|    Alecia|     Veitch|zwatsham3g@mysql.com|Macejkovic, Walte...|Sidekick Spectra5...|      7995|   5.0|\n",
      "|   10081|     Arden|Giovannardi|medmett7q@fastcom...|         Grady Group|        Max Perf 340|      6495|   4.7|\n",
      "|   10082|    Marcie|  Stradling|tsmithers3r@ehow.com|Okuneva, McCullou...|    Spectra5 Pro 776|      5995|   0.0|\n",
      "|   10083|     Ulric|Stallybrass|kplaice1k@columbi...|  Ankunding and Sons|Spectra5 Sidekick...|     12797|   5.0|\n",
      "|   10084|     Reube|   Plaschke|    afane2m@cnet.com|            Will Inc|     Impreza Max 601|     10995|   0.0|\n",
      "|   10085|     Alyda|     Moysey|abrounfield3n@mac...|       Renner-DAmore|        Pro Perf 668|      4495|   0.0|\n",
      "|   10086|     Dyane|     Newlan| ksnoddy65@desdev.cn|Oberbrunner, Diet...|     Pro Impreza 496|      7995|   0.0|\n",
      "|   10087|Hyacinthie|    Austins|pbratley5w@virgin...|        Tremblay LLC| TrailRunner Max 719|      5597|   5.0|\n",
      "+--------+----------+-----------+--------------------+--------------------+--------------------+----------+------+\n",
      "only showing top 20 rows\n",
      "\n"
     ]
    }
   ],
   "source": [
    "spark.sql(\n",
    "    \"SELECT * from arctic.test.orders\"\n",
    ").show()"
   ]
  },
  {
   "cell_type": "code",
   "execution_count": 6,
   "id": "1317c3e3-c4a3-4ced-a78b-255044a5e0f1",
   "metadata": {},
   "outputs": [
    {
     "name": "stdout",
     "output_type": "stream",
     "text": [
      "+--------+\n",
      "|count(1)|\n",
      "+--------+\n",
      "|    9315|\n",
      "+--------+\n",
      "\n"
     ]
    }
   ],
   "source": [
    "spark.sql(\n",
    "    \"SELECT COUNT(*) from arctic.test.orders\"\n",
    ").show()"
   ]
  },
  {
   "cell_type": "code",
   "execution_count": null,
   "id": "a12f8ada-f7b5-415a-a05b-341bacdab595",
   "metadata": {},
   "outputs": [],
   "source": []
  }
 ],
 "metadata": {
  "kernelspec": {
   "display_name": "Python 3 (ipykernel)",
   "language": "python",
   "name": "python3"
  },
  "language_info": {
   "codemirror_mode": {
    "name": "ipython",
    "version": 3
   },
   "file_extension": ".py",
   "mimetype": "text/x-python",
   "name": "python",
   "nbconvert_exporter": "python",
   "pygments_lexer": "ipython3",
   "version": "3.11.6"
  }
 },
 "nbformat": 4,
 "nbformat_minor": 5
}
