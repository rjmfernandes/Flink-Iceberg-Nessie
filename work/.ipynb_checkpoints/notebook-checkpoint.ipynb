{
 "cells": [
  {
   "cell_type": "code",
   "execution_count": 1,
   "id": "9d00b7cc-6c19-4ea2-ab7e-520583bec9fc",
   "metadata": {},
   "outputs": [
    {
     "name": "stdout",
     "output_type": "stream",
     "text": [
      "Spark will be instantiated. This may take a while specially the first time for downloading. Wait until it says Spark is running...\n",
      "Spark is Running!\n"
     ]
    }
   ],
   "source": [
    "from pyspark.sql import *\n",
    "from pyspark import SparkConf\n",
    "import os\n",
    "\n",
    "os.environ['PYSPARK_SUBMIT_ARGS'] = '--packages com.amazonaws:aws-java-sdk:1.10.34,org.apache.spark:spark-hadoop-cloud_2.12:3.4.0,org.apache.iceberg:iceberg-spark:1.5.0,org.apache.iceberg:iceberg-spark-runtime-3.4_2.12:1.5.0,org.projectnessie.nessie-integrations:nessie-spark-extensions-3.4_2.12:0.80.0,org.apache.iceberg:iceberg-aws-bundle:1.5.0 pyspark-shell'\n",
    "\n",
    "conf = SparkConf()\n",
    "\n",
    "conf.set(\"spark.sql.execution.pyarrow.enabled\", \"true\")\n",
    "conf.set(\"spark.hadoop.fs.s3a.impl\", \"org.apache.hadoop.fs.s3a.S3AFileSystem\")\n",
    "conf.set(\"spark.sql.catalog.arctic\", \"org.apache.iceberg.spark.SparkCatalog\")\n",
    "conf.set(\"spark.sql.catalog.arctic.catalog-impl\", \"org.apache.iceberg.nessie.NessieCatalog\")\n",
    "\n",
    "conf.set(\"spark.sql.catalog.arctic.warehouse\", \"s3://warehouse\")\n",
    "conf.set(\"spark.sql.catalog.arctic.s3.endpoint\", \"http://storage:9000\")\n",
    "\n",
    "conf.set(\"spark.sql.catalog.arctic.uri\", \"http://catalog:19120/api/v1\")\n",
    "\n",
    "conf.set(\"spark.sql.catalog.arctic.ref\", \"main\")\n",
    "conf.set(\"spark.sql.catalog.arctic.io-impl\", \"org.apache.iceberg.aws.s3.S3FileIO\")\n",
    "\n",
    "conf.set(\"spark.sql.catalog.arctic.authentication.type\", \"NONE\")\n",
    "conf.set(\n",
    "    \"spark.sql.extensions\",    \"org.apache.iceberg.spark.extensions.IcebergSparkSessionExtensions,org.projectnessie.spark.extensions.NessieSparkSessionExtensions\")\n",
    "\n",
    "print(\"Spark will be instantiated. This may take a while specially the first time for downloading. Wait until it says Spark is running...\")\n",
    "\n",
    "#Run Spark\n",
    "spark = SparkSession.builder.config(conf=conf).getOrCreate()\n",
    "print(\"Spark is Running!\")"
   ]
  },
  {
   "cell_type": "code",
   "execution_count": 2,
   "id": "2ac397f5-3bea-4331-9bc6-32a33ae85488",
   "metadata": {},
   "outputs": [
    {
     "name": "stdout",
     "output_type": "stream",
     "text": [
      "+---------+\n",
      "|namespace|\n",
      "+---------+\n",
      "|     test|\n",
      "+---------+\n",
      "\n"
     ]
    }
   ],
   "source": [
    "spark.sql(\n",
    "    \"SHOW DATABASES IN arctic\"\n",
    ").show()"
   ]
  },
  {
   "cell_type": "code",
   "execution_count": 3,
   "id": "791651ec-456c-4cca-94ab-f90dfbaaecc2",
   "metadata": {},
   "outputs": [
    {
     "name": "stdout",
     "output_type": "stream",
     "text": [
      "+----------+---------+-------+\n",
      "|  col_name|data_type|comment|\n",
      "+----------+---------+-------+\n",
      "|        id|   string|   NULL|\n",
      "|     brand|   string|   NULL|\n",
      "|      name|   string|   NULL|\n",
      "|sale_price|   bigint|   NULL|\n",
      "|    rating|   double|   NULL|\n",
      "+----------+---------+-------+\n",
      "\n"
     ]
    }
   ],
   "source": [
    "spark.sql(\n",
    "    \"DESCRIBE arctic.test.products\"\n",
    ").show()"
   ]
  },
  {
   "cell_type": "code",
   "execution_count": 4,
   "id": "f65faf1a-550e-497c-8c6b-3be46098ea9a",
   "metadata": {},
   "outputs": [
    {
     "name": "stdout",
     "output_type": "stream",
     "text": [
      "+-----+-----+------+----------+------+\n",
      "|   id|brand|  name|sale_price|rating|\n",
      "+-----+-----+------+----------+------+\n",
      "|demo1|apple|iphone|      1000|   4.0|\n",
      "|demo2|apple|   mac|      2000|   5.0|\n",
      "+-----+-----+------+----------+------+\n",
      "\n"
     ]
    }
   ],
   "source": [
    "spark.sql(\n",
    "    \"SELECT * from arctic.test.products\"\n",
    ").show()"
   ]
  },
  {
   "cell_type": "code",
   "execution_count": null,
   "id": "1317c3e3-c4a3-4ced-a78b-255044a5e0f1",
   "metadata": {},
   "outputs": [],
   "source": []
  }
 ],
 "metadata": {
  "kernelspec": {
   "display_name": "Python 3 (ipykernel)",
   "language": "python",
   "name": "python3"
  },
  "language_info": {
   "codemirror_mode": {
    "name": "ipython",
    "version": 3
   },
   "file_extension": ".py",
   "mimetype": "text/x-python",
   "name": "python",
   "nbconvert_exporter": "python",
   "pygments_lexer": "ipython3",
   "version": "3.11.6"
  }
 },
 "nbformat": 4,
 "nbformat_minor": 5
}
